{
 "cells": [
  {
   "cell_type": "markdown",
   "metadata": {},
   "source": [
    "# U.S. Medical Insurance Costs\n",
    "\n",
    "In this project, a __CSV__ file with medical insurance costs will be investigated using Python. The goal with this project will be to analyse various attributes within __insurance.csv__ to learn more about the patient information in this file and gain insight into potential use cases for the dataset."
   ]
  },
  {
   "cell_type": "markdown",
   "metadata": {},
   "source": [
    "To start, all necessary libraries must be imported. For this project the only library needed is the _csv_ library in order to work with the __insurance.csv__ data."
   ]
  },
  {
   "cell_type": "code",
   "execution_count": 1,
   "metadata": {},
   "outputs": [],
   "source": [
    "import csv"
   ]
  },
  {
   "cell_type": "markdown",
   "metadata": {},
   "source": [
    "## Looking over my dataset\n",
    "\n",
    "The next step is to look through __insurance.csv__ in order to get acquainted with the data. The following aspects of the data file will be checked in order to plan out how to import the data into a Python file.\n",
    "\n",
    "- The number of columns and rows (7, 1339)\n",
    "- The names of columns and rows (columns: age, sex, bmi, children, smoker, region, charges)\n",
    "- Any noticeable missing data (none)\n",
    "- Types of values (numerical vs categorical) (num, cat, num, num, cat, cat, num)"
   ]
  },
  {
   "cell_type": "markdown",
   "metadata": {},
   "source": [
    "## Scoping out my project\n",
    "\n",
    "Now let's identify some goals based on the data available:\n",
    "\n",
    "1. Find out the average age of the people in the dataset\n",
    "2. Evaluate the proportion of each region in the dataset\n",
    "3. Look at the difference in cost for smokers and non-smokers\n",
    "4. Determine the average age of those who have at least one child in this dataset"
   ]
  },
  {
   "cell_type": "markdown",
   "metadata": {},
   "source": [
    "## Import and save a dataset\n",
    "\n",
    "In this section of code, I am using a context manager to read a __.csv__ file and save it to a global variable in the script."
   ]
  },
  {
   "cell_type": "code",
   "execution_count": 2,
   "metadata": {},
   "outputs": [],
   "source": [
    "insurance_dataset = []\n",
    "\n",
    "with open('insurance.csv', newline='') as insurance_csv:\n",
    " insurance_file = csv.DictReader(insurance_csv)\n",
    " for row in insurance_file:\n",
    "  insurance_dataset.append(row)"
   ]
  },
  {
   "cell_type": "markdown",
   "metadata": {},
   "source": [
    "## Build out analysis functions or class methods\n",
    "\n",
    "I now have everything I need to begin my analysis, having organized the information from __insurance.csv__ and having thought about what it is I would like to investigate.\n",
    "\n",
    "Now is the time to build out how I perform these investigations using Python.\n",
    "\n",
    "_FIRST FUNCTION_\n",
    "store_parameter(dataset, name, variable_type = str):\n",
    "- takes two mandatory parameters, and one optional parameter:\n",
    "  1. dataset: a dictionary (created after opening the __.csv__ file)\n",
    "  2. name: name of the list where the output is to be saved\n",
    "  3. variable_type (optional): defines the type of the elements in the list\n",
    " - returns a list of the values for the {name} parameter in __insurance.csv__."
   ]
  },
  {
   "cell_type": "code",
   "execution_count": 3,
   "metadata": {},
   "outputs": [],
   "source": [
    "def store_parameter(dataset, name, variable_type = str): #takes a dictionary and a string as parameters\n",
    " parameter = []\n",
    " for row in dataset:\n",
    "  if variable_type == int:\n",
    "   parameter.append(int(row[name]))\n",
    "  elif variable_type == float:\n",
    "   parameter.append(float(row[name]))\n",
    "  else:\n",
    "   parameter.append(row[name])\n",
    " return parameter"
   ]
  },
  {
   "cell_type": "markdown",
   "metadata": {},
   "source": [
    "_SECOND FUNCTION_\n",
    "calculate_average(lst):\n",
    "- takes one parameter:\n",
    "  1. lst: a list of values whose average is calculated\n",
    "- returns the average if values are int or float, empty otherwise"
   ]
  },
  {
   "cell_type": "code",
   "execution_count": 4,
   "metadata": {},
   "outputs": [],
   "source": [
    "def calculate_average(lst):\n",
    " total = 0\n",
    " for item in lst:\n",
    "  if not isinstance(item, int) and not isinstance(item, float):\n",
    "   print(\"There are non-integer/non-float values in this list. The function was interrupted and nothing has been returned\")\n",
    "   return\n",
    "  total += item\n",
    " return total / len(lst)"
   ]
  },
  {
   "cell_type": "markdown",
   "metadata": {},
   "source": [
    "_THIRD FUNCTION_\n",
    "proportion_of_regions(lst):\n",
    "- takes one parameter:\n",
    "  1. lst: a list of values, in this case region strings, to be evaluated\n",
    "- prints the number of individuals from each region and the equivalent percentage\n",
    "- returns a dictionary where key:values is 'region':number_of_individuals"
   ]
  },
  {
   "cell_type": "code",
   "execution_count": 5,
   "metadata": {},
   "outputs": [],
   "source": [
    "def proportion_of_regions(lst):\n",
    " regions_dictionary = {}\n",
    " for item in lst:\n",
    "  if item in regions_dictionary:\n",
    "   regions_dictionary[item] += 1\n",
    "  else:\n",
    "   regions_dictionary[item] = 1\n",
    " print(\"\\nThere are {number} regions in this dataset.\".format(number = len(regions_dictionary)))\n",
    " for region, number in regions_dictionary.items():\n",
    "  print(\"There are {number} individuals from {region}, which represents {percentage:.2f}%.\".format(number = number, region = region, percentage = 100 * number/len(lst)))\n",
    " return regions_dictionary"
   ]
  },
  {
   "cell_type": "markdown",
   "metadata": {},
   "source": [
    "_FOURTH FUNCTION_\n",
    "average_cost_smoker(smoker_lst, cost_lst):\n",
    "- takes two parameters:\n",
    "  1. smoker_lst: a list, which contains the individual's smoking status (\"yes\" or \"no\")\n",
    "  2. cost_lst: a list, which contains the insurance charges for every individual (in dollars)\n",
    "- prints:\n",
    "  1. The number of smokers and non-smokers in the dataset\n",
    "  2. Their average insurance charges and how much more/less smokers pay comparatively to non-smokers\n",
    "- returns:\n",
    "  1. the average insurance charges of smokers \n",
    "  2. the average insurance charges of non-smokers"
   ]
  },
  {
   "cell_type": "code",
   "execution_count": 6,
   "metadata": {},
   "outputs": [],
   "source": [
    "def average_cost_smoker(smoker_lst, cost_lst):\n",
    " total_cost_smokers = 0\n",
    " total_number_smokers = 0\n",
    " total_cost_non_smokers = 0\n",
    " total_number_non_smokers = 0\n",
    "\n",
    " for smoker, charge in list(zip(smoker_lst, cost_lst)):\n",
    "  if smoker == 'yes':\n",
    "   total_cost_smokers += charge\n",
    "   total_number_smokers += 1\n",
    "  elif smoker == 'no':\n",
    "   total_cost_non_smokers += charge\n",
    "   total_number_non_smokers += 1\n",
    "  else:\n",
    "   print(\"An input other than \\\"yes\\\" or \\\"no\\\" was entered\")\n",
    "\n",
    " print('\\n')\n",
    " print(\"\"\"There are {x} smokers and {y} non-smokers in this dataset.\\nThe average insurance cost\\\n",
    " for smokers is ${cost_smokers:.2f} and that of non-smokers is ${cost_non_smokers:.2f}.\"\"\".format(x = total_number_smokers, y = total_number_non_smokers, cost_smokers = total_cost_smokers / total_number_smokers, cost_non_smokers = total_cost_non_smokers / total_number_non_smokers))\n",
    " print(\"On average, smokers pay {percentage:.2f}% more than non-smokers in this dataset.\".format(percentage = 100* total_cost_smokers * total_number_non_smokers / total_number_smokers / total_cost_non_smokers))\n",
    "\n",
    " return total_cost_smokers / total_number_smokers, total_cost_non_smokers / total_number_non_smokers"
   ]
  },
  {
   "cell_type": "markdown",
   "metadata": {},
   "source": [
    "_FIFTH FUNCTION_\n",
    "average_age_parents(list_age, list_children):\n",
    "- takes two parameters:\n",
    "  1. list_age: a list, which contains the age of all individuals\n",
    "  2. list_children: a list, which contains the number of children (>= 0) each individual has\n",
    "- returns:\n",
    "  1. the number of parents in the dataset\n",
    "  2. the average age of parents in the dataset"
   ]
  },
  {
   "cell_type": "code",
   "execution_count": 7,
   "metadata": {},
   "outputs": [],
   "source": [
    "def average_age_parents(list_age, list_children):\n",
    " total_age_parents = 0\n",
    " total_number_parents = 0\n",
    " for children, age in list(zip(list_children, list_age)):\n",
    "  if children > 0:\n",
    "   total_age_parents += age\n",
    "   total_number_parents += 1\n",
    " return total_number_parents, total_age_parents / total_number_parents"
   ]
  },
  {
   "cell_type": "markdown",
   "metadata": {},
   "source": [
    "_SIXTH FUNCTION_\n",
    "average_cost_bmi(list_bmi, list_cost):\n",
    "- takes two parameters:\n",
    "  1. list_bmi: a list, which contains individuals' BMI\n",
    "  2. list_cost: a list, which contains individuals' inccured insurance charges\n",
    "- prints:\n",
    "  1. The BMI ranges as defined by the WHO\n",
    "  2. The number of individuals and the average BMI in each category\n",
    "  3. How much more overweight and obese individuals pay in insurance comparatively to healthy individuals\n",
    "- returns:\n",
    "  1. number of underweight individuals\n",
    "  2. total insurance charges incurred by underweight individuals #might need changing given the function's name\n",
    "  3. number of healthy individuals\n",
    "  4. total insurance charges incurred by healthy individuals #might need changing given the function's name\n",
    "  5. number of overweight individuals\n",
    "  6. total insurance charges incurred by overweight individuals #might need changing given the function's name\n",
    "  7. number of obese individuals\n",
    "  8. total insurance charges incurred by obese individuals #might need changing given the function's name"
   ]
  },
  {
   "cell_type": "code",
   "execution_count": 8,
   "metadata": {},
   "outputs": [],
   "source": [
    "def average_cost_bmi(list_bmi, list_cost): #underweight, healthy and overweight categories are defined according to WHO guidance\n",
    " total_cost_obese = 0\n",
    " number_obese = 0\n",
    " total_cost_overweight = 0\n",
    " number_overweight = 0\n",
    " total_cost_healthy = 0\n",
    " number_healthy = 0\n",
    " total_cost_underweight = 0\n",
    " number_underweight = 0\n",
    "\n",
    " for bmi, insurance in list(zip(list_bmi, list_cost)):\n",
    "  if bmi >= 30:\n",
    "   total_cost_obese += insurance\n",
    "   number_obese += 1\n",
    "  elif bmi >= 25.0:\n",
    "   total_cost_overweight += insurance\n",
    "   number_overweight += 1\n",
    "  elif bmi >= 18.5:\n",
    "   total_cost_healthy += insurance\n",
    "   number_healthy += 1\n",
    "  else:\n",
    "   total_cost_underweight += insurance\n",
    "   number_underweight += 1\n",
    "\n",
    " print(\"\"\"\\nAccording to the WHO, individuals are:\n",
    " - \\'underweight\\' if their bmi is less than 18.5\n",
    " - \\'healthy\\' if their bmi is between 18.5 and 25.0\n",
    " - \\'overweight\\' if their bmi is greater than 25.0\n",
    " - \\'obese\\' if their bmi is greater than 30.0\n",
    "\n",
    "In this dataset, {num1} individuals are underweight, {num2} healthy, {num3} overweight and {num4} are obese.\n",
    "Here is the average insurance cost for each of these:\n",
    " - underweight: ${average1:.2f}\n",
    " - healthy: ${average2:.2f}\n",
    " - overweight: ${average3:.2f}\n",
    " - obese: ${average4:.2f}\n",
    "\n",
    "On average, overweight individuals pay {percentage1:.2f}% more than healthy individuals.\n",
    "On average, obese individuals pay {percentage2:.2f}% more than healthy individuals.\"\"\".format(num1 = number_underweight, num2 = number_healthy, num3 = number_overweight, num4 = number_obese, average1 = total_cost_underweight / number_underweight, average2 = total_cost_healthy / number_healthy, average3 = total_cost_overweight / number_overweight, average4 = total_cost_obese / number_obese, percentage1 = 100 * total_cost_overweight * number_healthy / total_cost_healthy / number_overweight, percentage2 = 100 * total_cost_obese * number_healthy / total_cost_healthy / number_obese))\n",
    " return number_underweight, total_cost_underweight, number_healthy, total_cost_healthy, number_overweight, total_cost_overweight, number_obese, total_cost_obese"
   ]
  },
  {
   "cell_type": "markdown",
   "metadata": {},
   "source": [
    "_MAIN BODY_\n",
    "\n",
    "Let's load the lists of individual parameters in the dataset:"
   ]
  },
  {
   "cell_type": "code",
   "execution_count": 9,
   "metadata": {},
   "outputs": [],
   "source": [
    "age = store_parameter(insurance_dataset, 'age', int)\n",
    "sex = store_parameter(insurance_dataset, 'sex')\n",
    "bmi = store_parameter(insurance_dataset, 'bmi', float)\n",
    "children = store_parameter(insurance_dataset, 'children', int)\n",
    "smoker = store_parameter(insurance_dataset, 'smoker')\n",
    "region = store_parameter(insurance_dataset, 'region')\n",
    "charges = store_parameter(insurance_dataset, 'charges', float)"
   ]
  },
  {
   "cell_type": "markdown",
   "metadata": {},
   "source": [
    "Let's provide an overview of the dataset:"
   ]
  },
  {
   "cell_type": "code",
   "execution_count": 10,
   "metadata": {},
   "outputs": [
    {
     "name": "stdout",
     "output_type": "stream",
     "text": [
      "There are 1338 individuals in this dataset. Their age, sex, bmi, number of children, whether they are smokers or not, region of origin and incurred insurance charges are collected.\n"
     ]
    }
   ],
   "source": [
    "parameters_evaluated = [key for key, value in insurance_dataset[0].items()]\n",
    "\n",
    "print(\"\"\"There are {} individuals in this dataset. Their {}, {}, {}, number of {}, whether they are\\\n",
    " {}s or not, {} of origin and incurred insurance {} are collected.\"\"\".format(len(age), parameters_evaluated[0], parameters_evaluated[1], parameters_evaluated[2], parameters_evaluated[3], parameters_evaluated[4], parameters_evaluated[5], parameters_evaluated[6]))\n",
    "if len(parameters_evaluated) > 7: #this currently needs to be updated manually, as does the sentence above\n",
    " print(\"More parameters have been evaluated in this dataset since you last checked!\")"
   ]
  },
  {
   "cell_type": "markdown",
   "metadata": {},
   "source": [
    "Let's apply the functions created to the data available:"
   ]
  },
  {
   "cell_type": "code",
   "execution_count": 11,
   "metadata": {},
   "outputs": [
    {
     "name": "stdout",
     "output_type": "stream",
     "text": [
      "\n",
      "The average age is 39.21 years old.\n",
      "The average bmi is 30.66.\n",
      "Average insurance charges amount to $13270.42.\n",
      "\n",
      "There are 4 regions in this dataset.\n",
      "There are 325 individuals from southwest, which represents 24.29%.\n",
      "There are 364 individuals from southeast, which represents 27.20%.\n",
      "There are 325 individuals from northwest, which represents 24.29%.\n",
      "There are 324 individuals from northeast, which represents 24.22%.\n",
      "\n",
      "\n",
      "There are 274 smokers and 1064 non-smokers in this dataset.\n",
      "The average insurance cost for smokers is $32050.23 and that of non-smokers is $8434.27.\n",
      "On average, smokers pay 380.00% more than non-smokers in this dataset.\n",
      "\n",
      "There are 764 parents in this dataset. On average, they are 39.8 years old.\n",
      "\n",
      "According to the WHO, individuals are:\n",
      " - 'underweight' if their bmi is less than 18.5\n",
      " - 'healthy' if their bmi is between 18.5 and 25.0\n",
      " - 'overweight' if their bmi is greater than 25.0\n",
      " - 'obese' if their bmi is greater than 30.0\n",
      "\n",
      "In this dataset, 20 individuals are underweight, 225 healthy, 386 overweight and 707 are obese.\n",
      "Here is the average insurance cost for each of these:\n",
      " - underweight: $8852.20\n",
      " - healthy: $10409.34\n",
      " - overweight: $10987.51\n",
      " - obese: $15552.34\n",
      "\n",
      "On average, overweight individuals pay 105.55% more than healthy individuals.\n",
      "On average, obese individuals pay 149.41% more than healthy individuals.\n"
     ]
    },
    {
     "data": {
      "text/plain": [
       "(20,\n",
       " 177044.01170000003,\n",
       " 225,\n",
       " 2342100.9845200004,\n",
       " 386,\n",
       " 4241178.818049001,\n",
       " 707,\n",
       " 10995501.176489996)"
      ]
     },
     "execution_count": 11,
     "metadata": {},
     "output_type": "execute_result"
    }
   ],
   "source": [
    "print(\"\\nThe average {parameter} is {value:.2f} years old.\".format(parameter = 'age', value = calculate_average(age)))\n",
    "print(\"The average {parameter} is {value:.2f}.\".format(parameter = 'bmi', value = calculate_average(bmi)))\n",
    "print(\"Average insurance {parameter} amount to ${value:.2f}.\".format(parameter = 'charges', value = calculate_average(charges)))\n",
    "proportion_of_regions(region)\n",
    "average_cost_smoker(smoker, charges)\n",
    "\n",
    "print(\"\\nThere are {number} parents in this dataset. On average, they are {age:.1f} years old.\".format(number = average_age_parents(age, children)[0], age = average_age_parents(age, children)[1]))\n",
    "average_cost_bmi(bmi, charges)"
   ]
  }
 ],
 "metadata": {
  "kernelspec": {
   "display_name": "Python 3",
   "language": "python",
   "name": "python3"
  },
  "language_info": {
   "codemirror_mode": {
    "name": "ipython",
    "version": 3
   },
   "file_extension": ".py",
   "mimetype": "text/x-python",
   "name": "python",
   "nbconvert_exporter": "python",
   "pygments_lexer": "ipython3",
   "version": "3.8.5"
  }
 },
 "nbformat": 4,
 "nbformat_minor": 4
}
